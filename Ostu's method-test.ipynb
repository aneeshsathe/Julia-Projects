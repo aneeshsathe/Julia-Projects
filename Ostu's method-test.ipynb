{
 "metadata": {
  "language": "Julia",
  "name": "",
  "signature": "sha256:04a48d34d516a7a93944e6f2ebf820ca6628d52a7d93ab1b5ef7d1a9aed65497"
 },
 "nbformat": 3,
 "nbformat_minor": 0,
 "worksheets": [
  {
   "cells": [
    {
     "cell_type": "markdown",
     "metadata": {},
     "source": [
      "Reference: http://www.labbookpages.co.uk/software/imgProc/otsuThreshold.html\n",
      "\n",
      "Initialize required libs"
     ]
    },
    {
     "cell_type": "code",
     "collapsed": false,
     "input": [
      "using Images"
     ],
     "language": "python",
     "metadata": {},
     "outputs": [],
     "prompt_number": 1
    },
    {
     "cell_type": "markdown",
     "metadata": {},
     "source": [
      "Read Image"
     ]
    },
    {
     "cell_type": "code",
     "collapsed": false,
     "input": [
      "#>>>>>>>change file path as required<<<<<<<<<\n",
      "in_img=imread(\"C:/Users/Aneesh/Desktop/control.mvd2 - XY point 3-1.tif\");"
     ],
     "language": "python",
     "metadata": {},
     "outputs": [],
     "prompt_number": 2
    },
    {
     "cell_type": "code",
     "collapsed": false,
     "input": [
      "img=data(in_img);"
     ],
     "language": "python",
     "metadata": {},
     "outputs": [],
     "prompt_number": 3
    },
    {
     "cell_type": "code",
     "collapsed": false,
     "input": [
      "tic()\n",
      "thresh=graythresh(img)\n",
      "toc()\n",
      "print(thresh)\n",
      "#matlab: Elapsed time is 0.013389 seconds. thresh value: 0.1294\n",
      "#julia: elapsed time: 1.035032847 seconds thresh value: 0.13013116644890854"
     ],
     "language": "python",
     "metadata": {},
     "outputs": [
      {
       "output_type": "stream",
       "stream": "stdout",
       "text": [
        "elapsed time: "
       ]
      },
      {
       "output_type": "stream",
       "stream": "stdout",
       "text": [
        "1.043197104 seconds\n",
        "0.13013116644890854"
       ]
      }
     ],
     "prompt_number": 16
    },
    {
     "cell_type": "code",
     "collapsed": false,
     "input": [
      "function graythresh(in_img)\n",
      "    \n",
      "    g=convert(Array,in_img);\n",
      "    step=65536;\n",
      "    \n",
      "    #get histogram values\n",
      "    e,counts=hist(g[:],linrange(minfinite(g[:]),maxfinite(g[:]),step))\n",
      "        \n",
      "   im_len=length(in_img);\n",
      "    \n",
      "    tot_sum=0;\n",
      "    for t=1:step-1 \n",
      "        tot_sum=tot_sum+t*counts[t];\n",
      "    end\n",
      "    \n",
      "    sumB = 0;\n",
      "    wB = 0;\n",
      "    wF = 0;\n",
      "    varMax = 0;\n",
      "    threshold = 0;\n",
      "    for t = 1:step-1\n",
      "        \n",
      "        wB=wB + counts[t]; #weight background\n",
      "        \n",
      "        wF=im_len - wB; #weight foreground\n",
      "        \n",
      "        sumB=sumB+t*counts[t];\n",
      "        \n",
      "        mB = sumB / wB;            #Mean Background\n",
      "        mF = (tot_sum - sumB) / wF;    # Mean Foreground\n",
      "        \n",
      "        varBetween = wB * wF * (mB - mF)^2;\n",
      "        # Check if new maximum found\n",
      "        if (varBetween > varMax) \n",
      "            varMax = varBetween;\n",
      "            threshold = t;\n",
      "        end\n",
      "    end\n",
      "    return e[threshold]\n",
      "end"
     ],
     "language": "python",
     "metadata": {},
     "outputs": [
      {
       "metadata": {},
       "output_type": "pyout",
       "prompt_number": 13,
       "text": [
        "graythresh (generic function with 1 method)"
       ]
      }
     ],
     "prompt_number": 13
    }
   ],
   "metadata": {}
  }
 ]
}